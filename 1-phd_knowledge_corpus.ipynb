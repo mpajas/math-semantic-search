{
 "cells": [
  {
   "cell_type": "code",
   "execution_count": 27,
   "metadata": {
    "collapsed": true
   },
   "outputs": [],
   "source": [
    "from datetime import timedelta\n",
    "import pandas as pd\n",
    "from datetime import datetime\n",
    "from sentence_transformers import SentenceTransformer\n",
    "import torch\n",
    "import faiss\n",
    "import numpy as np\n",
    "import joblib\n",
    "import unicodedata\n",
    "import json\n",
    "from pathlib import Path"
   ]
  },
  {
   "cell_type": "code",
   "execution_count": 28,
   "outputs": [],
   "source": [
    "def show_df_as_markdown(df: pd.DataFrame):\n",
    "    print(df.to_markdown())"
   ],
   "metadata": {
    "collapsed": false
   }
  },
  {
   "cell_type": "code",
   "execution_count": 29,
   "outputs": [],
   "source": [
    "def timestamp_to_start_seconds(start_time):\n",
    "    error = False\n",
    "\n",
    "    try:\n",
    "        start_time_parsed = datetime.strptime(start_time, '%H:%M:%S')\n",
    "    except ValueError as e:\n",
    "        error = True\n",
    "\n",
    "    if error:\n",
    "        start_time_parsed = datetime.strptime(start_time, '%H:%M:%S.%f')\n",
    "\n",
    "    start_seconds = int(timedelta(hours=start_time_parsed.hour,minutes=start_time_parsed.minute,seconds=start_time_parsed.second).total_seconds())\n",
    "\n",
    "    return start_seconds"
   ],
   "metadata": {
    "collapsed": false
   }
  },
  {
   "cell_type": "code",
   "execution_count": 30,
   "outputs": [],
   "source": [
    "def vector_search(query: list[str], model: SentenceTransformer, index, num_results=10):\n",
    "    vector = model.encode(list(query))\n",
    "    D, I = index.search(np.array(vector).astype(\"float32\"), k=num_results)\n",
    "    return D, I"
   ],
   "metadata": {
    "collapsed": false
   }
  },
  {
   "cell_type": "code",
   "execution_count": 31,
   "outputs": [],
   "source": [
    "transcript_files = list(Path().glob(\"lecture_transcripts/*.csv\"))\n",
    "youtube_video_names = list(map(lambda x: unicodedata.normalize(\"NFD\", x.stem.split(\" (192kbit_AAC)\")[0]), transcript_files))"
   ],
   "metadata": {
    "collapsed": false
   }
  },
  {
   "cell_type": "code",
   "execution_count": 32,
   "outputs": [],
   "source": [
    "with open(\"youtube_links.json\", \"r\") as f:\n",
    "    youtube_links = json.load(f)"
   ],
   "metadata": {
    "collapsed": false
   }
  },
  {
   "cell_type": "code",
   "execution_count": 33,
   "outputs": [],
   "source": [
    "dfs = []\n",
    "for i, (file, video_name) in enumerate(zip(transcript_files, youtube_video_names)):\n",
    "    temp_df = pd.read_csv(file, sep=\";\")\n",
    "    temp_df[\"start_seconds\"] = temp_df[\"Timestamp\"].apply(lambda x: timestamp_to_start_seconds(x.split(\" - \")[0]))\n",
    "    temp_df[\"start_link\"] = temp_df[\"start_seconds\"].apply(lambda x: youtube_links[video_name]+f\"?t={x}\")\n",
    "\n",
    "    dfs.append(temp_df)\n",
    "df = pd.concat(dfs, ignore_index=True)"
   ],
   "metadata": {
    "collapsed": false
   }
  },
  {
   "cell_type": "code",
   "execution_count": 34,
   "outputs": [],
   "source": [
    "df.to_parquet(\"knowledge_base.parquet\")"
   ],
   "metadata": {
    "collapsed": false
   }
  },
  {
   "cell_type": "code",
   "execution_count": 35,
   "outputs": [],
   "source": [
    "sentences = df[\"Speech\"].tolist()"
   ],
   "metadata": {
    "collapsed": false
   }
  },
  {
   "cell_type": "code",
   "execution_count": 36,
   "outputs": [
    {
     "name": "stderr",
     "output_type": "stream",
     "text": [
      "No sentence-transformers model found with name C:\\Users\\mpajas.DESKTOP-0MU8OSB/.cache\\torch\\sentence_transformers\\TamedWicked_MathBERT_hr. Creating a new one with MEAN pooling.\n",
      "Some weights of the model checkpoint at C:\\Users\\mpajas.DESKTOP-0MU8OSB/.cache\\torch\\sentence_transformers\\TamedWicked_MathBERT_hr were not used when initializing BertModel: ['cls.predictions.transform.LayerNorm.weight', 'cls.seq_relationship.bias', 'cls.predictions.decoder.bias', 'cls.seq_relationship.weight', 'cls.predictions.transform.dense.bias', 'cls.predictions.transform.dense.weight', 'cls.predictions.decoder.weight', 'cls.predictions.bias', 'cls.predictions.transform.LayerNorm.bias']\n",
      "- This IS expected if you are initializing BertModel from the checkpoint of a model trained on another task or with another architecture (e.g. initializing a BertForSequenceClassification model from a BertForPreTraining model).\n",
      "- This IS NOT expected if you are initializing BertModel from the checkpoint of a model that you expect to be exactly identical (initializing a BertForSequenceClassification model from a BertForSequenceClassification model).\n"
     ]
    }
   ],
   "source": [
    "model = SentenceTransformer(\"TamedWicked/MathBERT_hr\")"
   ],
   "metadata": {
    "collapsed": false
   }
  },
  {
   "cell_type": "code",
   "execution_count": 37,
   "outputs": [
    {
     "data": {
      "text/plain": "device(type='cuda', index=0)"
     },
     "execution_count": 37,
     "metadata": {},
     "output_type": "execute_result"
    }
   ],
   "source": [
    "if torch.cuda.is_available():\n",
    "    model = model.to(torch.device(\"cuda\"))\n",
    "model.device"
   ],
   "metadata": {
    "collapsed": false
   }
  },
  {
   "cell_type": "code",
   "execution_count": 38,
   "outputs": [
    {
     "data": {
      "text/plain": "Batches:   0%|          | 0/599 [00:00<?, ?it/s]",
      "application/vnd.jupyter.widget-view+json": {
       "version_major": 2,
       "version_minor": 0,
       "model_id": "27d1bdf15e074c62acc1a039bb3ecf15"
      }
     },
     "metadata": {},
     "output_type": "display_data"
    }
   ],
   "source": [
    "embeddings = model.encode(sentences, show_progress_bar=True, convert_to_numpy=True)"
   ],
   "metadata": {
    "collapsed": false
   }
  },
  {
   "cell_type": "code",
   "execution_count": 39,
   "outputs": [
    {
     "data": {
      "text/plain": "['knowledge_base_embeddings.pkl']"
     },
     "execution_count": 39,
     "metadata": {},
     "output_type": "execute_result"
    }
   ],
   "source": [
    "joblib.dump(embeddings, \"knowledge_base_embeddings.pkl\")"
   ],
   "metadata": {
    "collapsed": false
   }
  },
  {
   "cell_type": "code",
   "execution_count": 40,
   "outputs": [],
   "source": [
    "index = faiss.IndexFlatL2(embeddings.shape[1])\n",
    "# index = faiss.IndexIDMap(index)"
   ],
   "metadata": {
    "collapsed": false
   }
  },
  {
   "cell_type": "code",
   "execution_count": 41,
   "outputs": [],
   "source": [
    "index.add(embeddings)"
   ],
   "metadata": {
    "collapsed": false
   }
  },
  {
   "cell_type": "code",
   "execution_count": 42,
   "outputs": [],
   "source": [
    "D, I = index.search(np.array([embeddings[4000]]), k=10)"
   ],
   "metadata": {
    "collapsed": false
   }
  },
  {
   "cell_type": "code",
   "execution_count": 43,
   "outputs": [
    {
     "name": "stdout",
     "output_type": "stream",
     "text": [
      "|       | Speech                                                                          | start_link                          |\n",
      "|------:|:--------------------------------------------------------------------------------|:------------------------------------|\n",
      "|  7092 | ali strukture koje su elementarno ekvivalente ne moraju biti izomorfne.         | https://youtu.be/3YoHR8CGU-4?t=2308 |\n",
      "|  8856 | Dakle, mogu trivijalno uzeti dvije strukture koje jesu izomorfne,               | https://youtu.be/Y4sFFGs6rt4?t=490  |\n",
      "|  8926 | Dakle, to je zapravo pravi izomorfizam dvije strukture.                         | https://youtu.be/Y4sFFGs6rt4?t=804  |\n",
      "|  6689 | koji je izomorfan ovoj manjej strukturi.                                        | https://youtu.be/3YoHR8CGU-4?t=470  |\n",
      "|  6181 | Dakle, ne mora biti, postoje i strukture prvog rada koje nisu normalne,         | https://youtu.be/QWzjU9Tdt4Y?t=825  |\n",
      "|  6698 | Svakako važan teorem je da izomorfne strukture,                                 | https://youtu.be/3YoHR8CGU-4?t=500  |\n",
      "|  8724 | Ali gdje je bilo važno da su normalne strukture?                                | https://youtu.be/hF6Zm4IUYGQ?t=2548 |\n",
      "| 12286 | Dakle, ove dvije strukture su očito elementarno ekvivalentne, čak su izumorfne, | https://youtu.be/UXihhCqIjkg?t=1779 |\n",
      "|  6586 | Dakle, imamo dvije strukture i onda zapravo homomorfizam nije                   | https://youtu.be/3YoHR8CGU-4?t=10   |\n",
      "|  8844 | Ako su konačno izomorfne i konačne, onda su izomorfne.                          | https://youtu.be/Y4sFFGs6rt4?t=438  |\n"
     ]
    }
   ],
   "source": [
    "D, I = vector_search([\"Koje strukture su izomorfne?\"], model, index, num_results=10)\n",
    "result = df[[\"Speech\", \"start_link\"]].iloc[I[0]]\n",
    "show_df_as_markdown(result)"
   ],
   "metadata": {
    "collapsed": false
   }
  },
  {
   "cell_type": "code",
   "execution_count": 44,
   "outputs": [
    {
     "name": "stdout",
     "output_type": "stream",
     "text": [
      "|       | Speech                                                                          | start_link                          |\n",
      "|------:|:--------------------------------------------------------------------------------|:------------------------------------|\n",
      "|     0 | Prvi put smo bili zapeli u jednom dijelu samo kod kregove interpolacijske leme. | https://youtu.be/fMMhJYNpHfM?t=0    |\n",
      "|  9005 | ali to ti je zapravo model za S u kojem ne vrijedi F.                           | https://youtu.be/Y4sFFGs6rt4?t=1202 |\n",
      "| 16843 | Zašto na D od N1 ne vrijedi ovo? Zato što S nije ispunjev,                      | https://youtu.be/hn1JzNNQzpY?t=1698 |\n",
      "|  4061 | Znači, kad imamo dvije negacije ispred A, onda možemo ih maknuti.               | https://youtu.be/4MVlcNiz7CI?t=776  |\n",
      "|  6212 | ne znam, na elementarnoj matematici ili gdje već.                               | https://youtu.be/QWzjU9Tdt4Y?t=965  |\n",
      "|  1825 | Znači, mogu zaključiti da postoji ovaj V na kojem bi bio psi. Dobro?            | https://youtu.be/4vKxNYpF4N0?t=1644 |\n",
      "|  1405 | Pa, to je zapravo sad dobro pitanje. Znači, gledajte.                           | https://youtu.be/RjixpEwlWNo?t=2386 |\n",
      "| 18777 | Dakle, moram vidjeti da prazan skup nije uvotra.                                | https://youtu.be/KRII9NNVE1s?t=773  |\n",
      "|  8981 | To znači da za svaki konačan podskup od S, S nema za logičku posljedicu F,      | https://youtu.be/Y4sFFGs6rt4?t=1075 |\n",
      "| 12135 | Uglavnom, znači, što bi tip zapravo bio?                                        | https://youtu.be/UXihhCqIjkg?t=920  |\n"
     ]
    }
   ],
   "source": [
    "D, I = vector_search([\"Gdje smo zapeli prvi put?\"], model, index, num_results=10)\n",
    "result = df[[\"Speech\", \"start_link\"]].iloc[I[0]]\n",
    "show_df_as_markdown(result)"
   ],
   "metadata": {
    "collapsed": false
   }
  },
  {
   "cell_type": "code",
   "execution_count": 45,
   "outputs": [
    {
     "name": "stdout",
     "output_type": "stream",
     "text": [
      "|       | Speech                                                                             | start_link                          |\n",
      "|------:|:-----------------------------------------------------------------------------------|:------------------------------------|\n",
      "|  6728 | onda zovemo elementarno preslikavanje.                                             | https://youtu.be/3YoHR8CGU-4?t=632  |\n",
      "|  6753 | šta je elementarno preslikavanje, šta je jakih homomorfiza,                        | https://youtu.be/3YoHR8CGU-4?t=718  |\n",
      "|  6786 | Dakle, da ovo elementarno preslikavanje mora nekako drugačije preslikati elemente, | https://youtu.be/3YoHR8CGU-4?t=863  |\n",
      "|  6748 | elementarno preslikavanje jakih homomorfiza.                                       | https://youtu.be/3YoHR8CGU-4?t=701  |\n",
      "|  6732 | Izomorfizmi uvijek jesu elementarna preslikavanja,                                 | https://youtu.be/3YoHR8CGU-4?t=646  |\n",
      "|  6730 | pa niti jaki homomorfizam, ne mora biti elementarno preslikavanje,                 | https://youtu.be/3YoHR8CGU-4?t=638  |\n",
      "|  6742 | Elementarno preslikavanje općenito ne mora biti jaki homomorfizam,                 | https://youtu.be/3YoHR8CGU-4?t=678  |\n",
      "|  6785 | i da imate elementarno preslikavanje, ali da nemate elementarni podmodel.          | https://youtu.be/3YoHR8CGU-4?t=858  |\n",
      "| 16065 | ili elementarno proslikavanje, ne znam kako se odbali,                             | https://youtu.be/bphzvDY1EjU?t=179  |\n",
      "|  7003 | Dakle, to je kao elementarno preslikavanje, samo što mora imati ovaj H             | https://youtu.be/3YoHR8CGU-4?t=1820 |\n"
     ]
    }
   ],
   "source": [
    "D, I = vector_search([\"Što je elementarno preslikavanje?\"], model, index, num_results=10)\n",
    "result = df[[\"Speech\", \"start_link\"]].iloc[I[0]]\n",
    "show_df_as_markdown(result)"
   ],
   "metadata": {
    "collapsed": false
   }
  },
  {
   "cell_type": "code",
   "execution_count": 46,
   "outputs": [
    {
     "name": "stdout",
     "output_type": "stream",
     "text": [
      "|      | Speech                                                                             | start_link                         |\n",
      "|-----:|:-----------------------------------------------------------------------------------|:-----------------------------------|\n",
      "| 6728 | onda zovemo elementarno preslikavanje.                                             | https://youtu.be/3YoHR8CGU-4?t=632 |\n",
      "| 6732 | Izomorfizmi uvijek jesu elementarna preslikavanja,                                 | https://youtu.be/3YoHR8CGU-4?t=646 |\n",
      "| 6786 | Dakle, da ovo elementarno preslikavanje mora nekako drugačije preslikati elemente, | https://youtu.be/3YoHR8CGU-4?t=863 |\n",
      "| 6785 | i da imate elementarno preslikavanje, ali da nemate elementarni podmodel.          | https://youtu.be/3YoHR8CGU-4?t=858 |\n",
      "| 6748 | elementarno preslikavanje jakih homomorfiza.                                       | https://youtu.be/3YoHR8CGU-4?t=701 |\n",
      "| 6722 | Neka preslikavanja nisu u onom smislu,                                             | https://youtu.be/3YoHR8CGU-4?t=600 |\n",
      "| 6742 | Elementarno preslikavanje općenito ne mora biti jaki homomorfizam,                 | https://youtu.be/3YoHR8CGU-4?t=678 |\n",
      "| 6753 | šta je elementarno preslikavanje, šta je jakih homomorfiza,                        | https://youtu.be/3YoHR8CGU-4?t=718 |\n",
      "| 6771 | na prvi pogled, isti uvjet kao kod elementarnog preslikavanja.                     | https://youtu.be/3YoHR8CGU-4?t=808 |\n",
      "| 6730 | pa niti jaki homomorfizam, ne mora biti elementarno preslikavanje,                 | https://youtu.be/3YoHR8CGU-4?t=638 |\n"
     ]
    }
   ],
   "source": [
    "D, I = vector_search([\"Što su elementarna preslikavanja?\"], model, index, num_results=10)\n",
    "result = df[[\"Speech\", \"start_link\"]].iloc[I[0]]\n",
    "show_df_as_markdown(result)"
   ],
   "metadata": {
    "collapsed": false
   }
  },
  {
   "cell_type": "code",
   "execution_count": 47,
   "outputs": [
    {
     "name": "stdout",
     "output_type": "stream",
     "text": [
      "|       | Speech                                                                                                        | start_link                          |\n",
      "|------:|:--------------------------------------------------------------------------------------------------------------|:------------------------------------|\n",
      "| 15557 | po nekakvom izomorfizmu F.                                                                                    | https://youtu.be/dt5g46wavvQ?t=78   |\n",
      "| 15555 | i oni su izomorfni,                                                                                           | https://youtu.be/dt5g46wavvQ?t=72   |\n",
      "| 17305 | bi zapravo bio izomorfan sa M, a onda bi naravno imao tu nekakav izomorfizam i onda bi taj A koji postoji u N | https://youtu.be/CEEm6l5UEHw?t=1766 |\n",
      "|  8848 | Ako su konačno izomorfne.                                                                                     | https://youtu.be/Y4sFFGs6rt4?t=459  |\n",
      "| 17682 | naravno, opet sad, do na izomorfizam.                                                                         | https://youtu.be/8yu-sTrLbyw?t=1262 |\n",
      "|  7125 | i na njemu definirati izomorfizam.                                                                            | https://youtu.be/3YoHR8CGU-4?t=2444 |\n",
      "|  6732 | Izomorfizmi uvijek jesu elementarna preslikavanja,                                                            | https://youtu.be/3YoHR8CGU-4?t=646  |\n",
      "|  8367 | ako i samo ako su konačno izomorfne.                                                                          | https://youtu.be/hF6Zm4IUYGQ?t=480  |\n",
      "|  6983 | koji je zapravo čak i izomorfizam.                                                                            | https://youtu.be/3YoHR8CGU-4?t=1710 |\n",
      "|  8844 | Ako su konačno izomorfne i konačne, onda su izomorfne.                                                        | https://youtu.be/Y4sFFGs6rt4?t=438  |\n"
     ]
    }
   ],
   "source": [
    "D, I = vector_search([\"Što su izomorfizmi?\"], model, index, num_results=10)\n",
    "result = df[[\"Speech\", \"start_link\"]].iloc[I[0]]\n",
    "show_df_as_markdown(result)"
   ],
   "metadata": {
    "collapsed": false
   }
  },
  {
   "cell_type": "code",
   "execution_count": 48,
   "outputs": [
    {
     "name": "stdout",
     "output_type": "stream",
     "text": [
      "|       | Speech                                                                  | start_link                          |\n",
      "|------:|:------------------------------------------------------------------------|:------------------------------------|\n",
      "| 17793 | I to su elementarno ekvivalentne strukture.                             | https://youtu.be/8yu-sTrLbyw?t=1739 |\n",
      "|  6701 | Izomorfne strukture jesu elementarno ekvivalente.                       | https://youtu.be/3YoHR8CGU-4?t=509  |\n",
      "|  8366 | Dakle, dvije strukture su elementarno ekvivalentne                      | https://youtu.be/hF6Zm4IUYGQ?t=476  |\n",
      "|  7091 | Znači, strukture koje su elementarni jesu elementarno ekvivalentne,     | https://youtu.be/3YoHR8CGU-4?t=2305 |\n",
      "| 17772 | ali moraš biti u nekoj elementarno ekvivalentnoj strukturi.             | https://youtu.be/8yu-sTrLbyw?t=1632 |\n",
      "| 12278 | Ali ima, ima pisanja. Dvije sigma strukture su elementarno ekvalentne,  | https://youtu.be/UXihhCqIjkg?t=1720 |\n",
      "|  5278 | Elementarno je ekvivalentan soljnih svijeta.                            | https://youtu.be/89RDceRtiXA?t=1512 |\n",
      "|  7092 | ali strukture koje su elementarno ekvivalente ne moraju biti izomorfne. | https://youtu.be/3YoHR8CGU-4?t=2308 |\n",
      "|  4757 | onda će biti elementarno ekvivalentni.                                  | https://youtu.be/9mInaqY-szk?t=1470 |\n",
      "|  6707 | pa tako je elementarno ekvivalenciju.                                   | https://youtu.be/3YoHR8CGU-4?t=533  |\n"
     ]
    }
   ],
   "source": [
    "D, I = vector_search([\"Elementarno ekvivalentne strukture\"], model, index, num_results=10)\n",
    "result = df[[\"Speech\", \"start_link\"]].iloc[I[0]]\n",
    "show_df_as_markdown(result)"
   ],
   "metadata": {
    "collapsed": false
   }
  }
 ],
 "metadata": {
  "kernelspec": {
   "display_name": "Python 3",
   "language": "python",
   "name": "python3"
  },
  "language_info": {
   "codemirror_mode": {
    "name": "ipython",
    "version": 2
   },
   "file_extension": ".py",
   "mimetype": "text/x-python",
   "name": "python",
   "nbconvert_exporter": "python",
   "pygments_lexer": "ipython2",
   "version": "2.7.6"
  }
 },
 "nbformat": 4,
 "nbformat_minor": 0
}
