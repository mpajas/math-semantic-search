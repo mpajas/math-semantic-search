{
 "cells": [
  {
   "cell_type": "code",
   "execution_count": 15,
   "metadata": {
    "collapsed": true
   },
   "outputs": [],
   "source": [
    "from datetime import timedelta\n",
    "from glob import glob\n",
    "import pandas as pd\n",
    "from datetime import datetime\n",
    "from sentence_transformers import SentenceTransformer\n",
    "import torch\n",
    "import faiss\n",
    "import numpy as np\n",
    "import joblib"
   ]
  },
  {
   "cell_type": "code",
   "execution_count": 16,
   "outputs": [],
   "source": [
    "def timestamp_to_start_seconds(start_time):\n",
    "    error = False\n",
    "\n",
    "    try:\n",
    "        start_time_parsed = datetime.strptime(start_time, '%H:%M:%S')\n",
    "    except ValueError as e:\n",
    "        error = True\n",
    "\n",
    "    if error:\n",
    "        start_time_parsed = datetime.strptime(start_time, '%H:%M:%S.%f')\n",
    "\n",
    "    start_seconds = int(timedelta(hours=start_time_parsed.hour,minutes=start_time_parsed.minute,seconds=start_time_parsed.second).total_seconds())\n",
    "\n",
    "    return start_seconds"
   ],
   "metadata": {
    "collapsed": false
   }
  },
  {
   "cell_type": "code",
   "execution_count": 17,
   "outputs": [],
   "source": [
    "transcript_files = glob(\"lecture_transcripts/*.csv\")"
   ],
   "metadata": {
    "collapsed": false
   }
  },
  {
   "cell_type": "code",
   "execution_count": 18,
   "outputs": [],
   "source": [
    "youtube_links = [\n",
    "    \"https://youtu.be/fMMhJYNpHfM\", #22.12.2022.\n",
    "\n",
    "    \"https://youtu.be/QWzjU9Tdt4Y\", #3.11.2022.\n",
    "    \"https://youtu.be/3YoHR8CGU-4\", #3.11.2022.\n",
    "\n",
    "    \"https://youtu.be/jebx2t2NX6U\", #1.12.2022.\n",
    "    \"https://youtu.be/Q19taQtrlR0\", #1.12.2022.\n",
    "\n",
    "    \"https://youtu.be/MASKzjeZyLM\", #2.2.2023.\n",
    "    \"https://youtu.be/SpSD84Kgqio\", #2.2.2023.\n",
    "\n",
    "\n",
    "]"
   ],
   "metadata": {
    "collapsed": false
   }
  },
  {
   "cell_type": "code",
   "execution_count": 19,
   "outputs": [],
   "source": [
    "dfs = []\n",
    "for i, file in enumerate(transcript_files):\n",
    "    temp_df = pd.read_csv(file, sep=\";\")\n",
    "    temp_df[\"start_seconds\"] = temp_df[\"Timestamp\"].apply(lambda x: timestamp_to_start_seconds(x.split(\" - \")[0]))\n",
    "    temp_df[\"start_link\"] = temp_df[\"start_seconds\"].apply(lambda x: youtube_links[i]+f\"?t={x}\")\n",
    "    dfs.append(temp_df)"
   ],
   "metadata": {
    "collapsed": false
   }
  },
  {
   "cell_type": "code",
   "execution_count": 20,
   "outputs": [],
   "source": [
    "# dfs = [pd.read_csv(file, sep=\";\") for file in transcript_files]"
   ],
   "metadata": {
    "collapsed": false
   }
  },
  {
   "cell_type": "code",
   "execution_count": 21,
   "outputs": [],
   "source": [
    "df = pd.concat(dfs, ignore_index=True)"
   ],
   "metadata": {
    "collapsed": false
   }
  },
  {
   "cell_type": "code",
   "execution_count": 22,
   "outputs": [
    {
     "data": {
      "text/plain": "                                                 Speech          Timestamp  \\\n0     Prvi put smo bili zapeli u jednom dijelu samo ...  0:00:00 - 0:00:20   \n1     Nije baš bilo jasno kako primijeniti ovaj post...  0:00:20 - 0:00:27   \n2                     Imali smo niz formula A0, A1 itd.  0:00:27 - 0:00:32   \n3     I tako dalje, onda smo od njih nekako gradili ...  0:00:32 - 0:00:46   \n4     Uzimajući ili te formule Aove ili njihove nega...  0:00:46 - 0:00:52   \n...                                                 ...                ...   \n4138  postoji tzv. močkinom u Polinom koji ima to sv...  0:45:35 - 0:45:42   \n4139                           ali nije zbroj kvadrata.  0:45:42 - 0:45:44   \n4140  Ali kažem, nećemo ništa više o tome reći, bar ...  0:45:44 - 0:45:48   \n4141   Dobro, to je to. Ima možda nekih pitanja online?  0:45:50 - 0:45:54   \n4142                                        Nema, okej.  0:45:54 - 0:45:56   \n\n      start_seconds                           start_link  \n0                 0     https://youtu.be/fMMhJYNpHfM?t=0  \n1                20    https://youtu.be/fMMhJYNpHfM?t=20  \n2                27    https://youtu.be/fMMhJYNpHfM?t=27  \n3                32    https://youtu.be/fMMhJYNpHfM?t=32  \n4                46    https://youtu.be/fMMhJYNpHfM?t=46  \n...             ...                                  ...  \n4138           2735  https://youtu.be/SpSD84Kgqio?t=2735  \n4139           2742  https://youtu.be/SpSD84Kgqio?t=2742  \n4140           2744  https://youtu.be/SpSD84Kgqio?t=2744  \n4141           2750  https://youtu.be/SpSD84Kgqio?t=2750  \n4142           2754  https://youtu.be/SpSD84Kgqio?t=2754  \n\n[4143 rows x 4 columns]",
      "text/html": "<div>\n<style scoped>\n    .dataframe tbody tr th:only-of-type {\n        vertical-align: middle;\n    }\n\n    .dataframe tbody tr th {\n        vertical-align: top;\n    }\n\n    .dataframe thead th {\n        text-align: right;\n    }\n</style>\n<table border=\"1\" class=\"dataframe\">\n  <thead>\n    <tr style=\"text-align: right;\">\n      <th></th>\n      <th>Speech</th>\n      <th>Timestamp</th>\n      <th>start_seconds</th>\n      <th>start_link</th>\n    </tr>\n  </thead>\n  <tbody>\n    <tr>\n      <th>0</th>\n      <td>Prvi put smo bili zapeli u jednom dijelu samo ...</td>\n      <td>0:00:00 - 0:00:20</td>\n      <td>0</td>\n      <td>https://youtu.be/fMMhJYNpHfM?t=0</td>\n    </tr>\n    <tr>\n      <th>1</th>\n      <td>Nije baš bilo jasno kako primijeniti ovaj post...</td>\n      <td>0:00:20 - 0:00:27</td>\n      <td>20</td>\n      <td>https://youtu.be/fMMhJYNpHfM?t=20</td>\n    </tr>\n    <tr>\n      <th>2</th>\n      <td>Imali smo niz formula A0, A1 itd.</td>\n      <td>0:00:27 - 0:00:32</td>\n      <td>27</td>\n      <td>https://youtu.be/fMMhJYNpHfM?t=27</td>\n    </tr>\n    <tr>\n      <th>3</th>\n      <td>I tako dalje, onda smo od njih nekako gradili ...</td>\n      <td>0:00:32 - 0:00:46</td>\n      <td>32</td>\n      <td>https://youtu.be/fMMhJYNpHfM?t=32</td>\n    </tr>\n    <tr>\n      <th>4</th>\n      <td>Uzimajući ili te formule Aove ili njihove nega...</td>\n      <td>0:00:46 - 0:00:52</td>\n      <td>46</td>\n      <td>https://youtu.be/fMMhJYNpHfM?t=46</td>\n    </tr>\n    <tr>\n      <th>...</th>\n      <td>...</td>\n      <td>...</td>\n      <td>...</td>\n      <td>...</td>\n    </tr>\n    <tr>\n      <th>4138</th>\n      <td>postoji tzv. močkinom u Polinom koji ima to sv...</td>\n      <td>0:45:35 - 0:45:42</td>\n      <td>2735</td>\n      <td>https://youtu.be/SpSD84Kgqio?t=2735</td>\n    </tr>\n    <tr>\n      <th>4139</th>\n      <td>ali nije zbroj kvadrata.</td>\n      <td>0:45:42 - 0:45:44</td>\n      <td>2742</td>\n      <td>https://youtu.be/SpSD84Kgqio?t=2742</td>\n    </tr>\n    <tr>\n      <th>4140</th>\n      <td>Ali kažem, nećemo ništa više o tome reći, bar ...</td>\n      <td>0:45:44 - 0:45:48</td>\n      <td>2744</td>\n      <td>https://youtu.be/SpSD84Kgqio?t=2744</td>\n    </tr>\n    <tr>\n      <th>4141</th>\n      <td>Dobro, to je to. Ima možda nekih pitanja online?</td>\n      <td>0:45:50 - 0:45:54</td>\n      <td>2750</td>\n      <td>https://youtu.be/SpSD84Kgqio?t=2750</td>\n    </tr>\n    <tr>\n      <th>4142</th>\n      <td>Nema, okej.</td>\n      <td>0:45:54 - 0:45:56</td>\n      <td>2754</td>\n      <td>https://youtu.be/SpSD84Kgqio?t=2754</td>\n    </tr>\n  </tbody>\n</table>\n<p>4143 rows × 4 columns</p>\n</div>"
     },
     "execution_count": 22,
     "metadata": {},
     "output_type": "execute_result"
    }
   ],
   "source": [
    "df"
   ],
   "metadata": {
    "collapsed": false
   }
  },
  {
   "cell_type": "code",
   "execution_count": 23,
   "outputs": [],
   "source": [
    "sentences = df[\"Speech\"].tolist()"
   ],
   "metadata": {
    "collapsed": false
   }
  },
  {
   "cell_type": "code",
   "execution_count": 25,
   "outputs": [],
   "source": [
    "model = joblib.load(\"mathbert_model.pkl\") #SentenceTransformer(\"MathBERT_hr\")"
   ],
   "metadata": {
    "collapsed": false
   }
  },
  {
   "cell_type": "code",
   "execution_count": 26,
   "outputs": [
    {
     "data": {
      "text/plain": "device(type='cuda', index=0)"
     },
     "execution_count": 26,
     "metadata": {},
     "output_type": "execute_result"
    }
   ],
   "source": [
    "if torch.cuda.is_available():\n",
    "    model = model.to(torch.device(\"cuda\"))\n",
    "model.device"
   ],
   "metadata": {
    "collapsed": false
   }
  },
  {
   "cell_type": "code",
   "execution_count": 27,
   "outputs": [
    {
     "data": {
      "text/plain": "Batches:   0%|          | 0/130 [00:00<?, ?it/s]",
      "application/vnd.jupyter.widget-view+json": {
       "version_major": 2,
       "version_minor": 0,
       "model_id": "5dcd25e2438943058fd509619f4afb45"
      }
     },
     "metadata": {},
     "output_type": "display_data"
    }
   ],
   "source": [
    "embeddings = model.encode(sentences, show_progress_bar=True, convert_to_numpy=True)"
   ],
   "metadata": {
    "collapsed": false
   }
  },
  {
   "cell_type": "code",
   "execution_count": 28,
   "outputs": [],
   "source": [
    "index = faiss.IndexFlatL2(embeddings.shape[1])\n",
    "# index = faiss.IndexIDMap(index)"
   ],
   "metadata": {
    "collapsed": false
   }
  },
  {
   "cell_type": "code",
   "execution_count": 29,
   "outputs": [],
   "source": [
    "index.add(embeddings)"
   ],
   "metadata": {
    "collapsed": false
   }
  },
  {
   "cell_type": "code",
   "execution_count": 30,
   "outputs": [],
   "source": [
    "D, I = index.search(np.array([embeddings[4000]]), k=10)"
   ],
   "metadata": {
    "collapsed": false
   }
  },
  {
   "cell_type": "code",
   "execution_count": 31,
   "outputs": [],
   "source": [
    "def vector_search(query: list[str], model: SentenceTransformer, index, num_results=10):\n",
    "    \"\"\"Tranforms query to vector using a pretrained, sentence-level\n",
    "    DistilBERT model and finds similar vectors using FAISS.\n",
    "\n",
    "    Args:\n",
    "        query (str): User query that should be more than a sentence long.\n",
    "        model (sentence_transformers.SentenceTransformer.SentenceTransformer)\n",
    "        index (`numpy.ndarray`): FAISS index that needs to be deserialized.\n",
    "        num_results (int): Number of results to return.\n",
    "\n",
    "    Returns:\n",
    "        D (:obj:`numpy.array` of `float`): Distance between results and query.\n",
    "        I (:obj:`numpy.array` of `int`): Paper ID of the results.\n",
    "\n",
    "    \"\"\"\n",
    "    vector = model.encode(list(query))\n",
    "    D, I = index.search(np.array(vector).astype(\"float32\"), k=num_results)\n",
    "    return D, I"
   ],
   "metadata": {
    "collapsed": false
   }
  },
  {
   "cell_type": "code",
   "execution_count": 32,
   "outputs": [
    {
     "data": {
      "text/plain": "                                                 Speech  \\\n1520  ali strukture koje su elementarno ekvivalente ...   \n1117           koji je izomorfan ovoj manjej strukturi.   \n609   Dakle, ne mora biti, postoje i strukture prvog...   \n1703  Dakle, ali naravno, ove dvije stvari su izomor...   \n1126    Svakako važan teorem je da izomorfne strukture,   \n1014  Dakle, imamo dvije strukture i onda zapravo ho...   \n1129  Izomorfne strukture jesu elementarno ekvivalente.   \n967   Svakako, homomorfizam, dakle, struktura koje s...   \n1833             recimo Z2 i Z3 sigurno nisu izomorfne.   \n1571  Što su relacijske strukture? To su naravno one...   \n\n                               start_link  \n1520  https://youtu.be/3YoHR8CGU-4?t=2308  \n1117   https://youtu.be/3YoHR8CGU-4?t=470  \n609    https://youtu.be/QWzjU9Tdt4Y?t=825  \n1703   https://youtu.be/jebx2t2NX6U?t=412  \n1126   https://youtu.be/3YoHR8CGU-4?t=500  \n1014    https://youtu.be/3YoHR8CGU-4?t=10  \n1129   https://youtu.be/3YoHR8CGU-4?t=509  \n967   https://youtu.be/QWzjU9Tdt4Y?t=2555  \n1833  https://youtu.be/jebx2t2NX6U?t=1156  \n1571  https://youtu.be/3YoHR8CGU-4?t=2528  ",
      "text/html": "<div>\n<style scoped>\n    .dataframe tbody tr th:only-of-type {\n        vertical-align: middle;\n    }\n\n    .dataframe tbody tr th {\n        vertical-align: top;\n    }\n\n    .dataframe thead th {\n        text-align: right;\n    }\n</style>\n<table border=\"1\" class=\"dataframe\">\n  <thead>\n    <tr style=\"text-align: right;\">\n      <th></th>\n      <th>Speech</th>\n      <th>start_link</th>\n    </tr>\n  </thead>\n  <tbody>\n    <tr>\n      <th>1520</th>\n      <td>ali strukture koje su elementarno ekvivalente ...</td>\n      <td>https://youtu.be/3YoHR8CGU-4?t=2308</td>\n    </tr>\n    <tr>\n      <th>1117</th>\n      <td>koji je izomorfan ovoj manjej strukturi.</td>\n      <td>https://youtu.be/3YoHR8CGU-4?t=470</td>\n    </tr>\n    <tr>\n      <th>609</th>\n      <td>Dakle, ne mora biti, postoje i strukture prvog...</td>\n      <td>https://youtu.be/QWzjU9Tdt4Y?t=825</td>\n    </tr>\n    <tr>\n      <th>1703</th>\n      <td>Dakle, ali naravno, ove dvije stvari su izomor...</td>\n      <td>https://youtu.be/jebx2t2NX6U?t=412</td>\n    </tr>\n    <tr>\n      <th>1126</th>\n      <td>Svakako važan teorem je da izomorfne strukture,</td>\n      <td>https://youtu.be/3YoHR8CGU-4?t=500</td>\n    </tr>\n    <tr>\n      <th>1014</th>\n      <td>Dakle, imamo dvije strukture i onda zapravo ho...</td>\n      <td>https://youtu.be/3YoHR8CGU-4?t=10</td>\n    </tr>\n    <tr>\n      <th>1129</th>\n      <td>Izomorfne strukture jesu elementarno ekvivalente.</td>\n      <td>https://youtu.be/3YoHR8CGU-4?t=509</td>\n    </tr>\n    <tr>\n      <th>967</th>\n      <td>Svakako, homomorfizam, dakle, struktura koje s...</td>\n      <td>https://youtu.be/QWzjU9Tdt4Y?t=2555</td>\n    </tr>\n    <tr>\n      <th>1833</th>\n      <td>recimo Z2 i Z3 sigurno nisu izomorfne.</td>\n      <td>https://youtu.be/jebx2t2NX6U?t=1156</td>\n    </tr>\n    <tr>\n      <th>1571</th>\n      <td>Što su relacijske strukture? To su naravno one...</td>\n      <td>https://youtu.be/3YoHR8CGU-4?t=2528</td>\n    </tr>\n  </tbody>\n</table>\n</div>"
     },
     "execution_count": 32,
     "metadata": {},
     "output_type": "execute_result"
    }
   ],
   "source": [
    "# D, I = vector_search([\"Gdje smo zapeli prvi put?\"], model, index, num_results=10)\n",
    "# D, I = vector_search([\"Levenhim-Skulemov teorem\"], model, index, num_results=10)\n",
    "# D, I = vector_search([\"Čemu služe atomarne formule?\"], model, index, num_results=10)\n",
    "D, I = vector_search([\"Koje strukture su izomorfne?\"], model, index, num_results=10)\n",
    "# D, I = vector_search([\"Zašto je to korisno?\"], model, index, num_results=10)\n",
    "\n",
    "df[[\"Speech\", \"start_link\"]].iloc[I[0]]"
   ],
   "metadata": {
    "collapsed": false
   }
  },
  {
   "cell_type": "code",
   "execution_count": 33,
   "outputs": [
    {
     "data": {
      "text/plain": "                                                 Speech  \\\n0     Prvi put smo bili zapeli u jednom dijelu samo ...   \n640   ne znam, na elementarnoj matematici ili gdje već.   \n4113  Dobro, i šta sad? Činjenica na f vrijedige nap...   \n339   ali zasad samo konačno mnogo, ako uzmem i pres...   \n302   za tu tvrdnju koju vi postavite pred njih. Nek...   \n1560             Ne mora nikakav uvjet biti zadovoljen.   \n876   to zapravo znači da ja moram sve variable, pri...   \n300   tvrdnje, ona će glasati ili za jednu ili za dr...   \n3911  Znači za početak moramo nešto reći o idealima,...   \n2748            kad smo gledali šta to zapravo znači za   \n\n                               start_link  \n0        https://youtu.be/fMMhJYNpHfM?t=0  \n640    https://youtu.be/QWzjU9Tdt4Y?t=965  \n4113  https://youtu.be/SpSD84Kgqio?t=2578  \n339   https://youtu.be/fMMhJYNpHfM?t=2215  \n302   https://youtu.be/fMMhJYNpHfM?t=2008  \n1560  https://youtu.be/3YoHR8CGU-4?t=2469  \n876   https://youtu.be/QWzjU9Tdt4Y?t=2170  \n300   https://youtu.be/fMMhJYNpHfM?t=1986  \n3911  https://youtu.be/SpSD84Kgqio?t=1571  \n2748   https://youtu.be/MASKzjeZyLM?t=186  ",
      "text/html": "<div>\n<style scoped>\n    .dataframe tbody tr th:only-of-type {\n        vertical-align: middle;\n    }\n\n    .dataframe tbody tr th {\n        vertical-align: top;\n    }\n\n    .dataframe thead th {\n        text-align: right;\n    }\n</style>\n<table border=\"1\" class=\"dataframe\">\n  <thead>\n    <tr style=\"text-align: right;\">\n      <th></th>\n      <th>Speech</th>\n      <th>start_link</th>\n    </tr>\n  </thead>\n  <tbody>\n    <tr>\n      <th>0</th>\n      <td>Prvi put smo bili zapeli u jednom dijelu samo ...</td>\n      <td>https://youtu.be/fMMhJYNpHfM?t=0</td>\n    </tr>\n    <tr>\n      <th>640</th>\n      <td>ne znam, na elementarnoj matematici ili gdje već.</td>\n      <td>https://youtu.be/QWzjU9Tdt4Y?t=965</td>\n    </tr>\n    <tr>\n      <th>4113</th>\n      <td>Dobro, i šta sad? Činjenica na f vrijedige nap...</td>\n      <td>https://youtu.be/SpSD84Kgqio?t=2578</td>\n    </tr>\n    <tr>\n      <th>339</th>\n      <td>ali zasad samo konačno mnogo, ako uzmem i pres...</td>\n      <td>https://youtu.be/fMMhJYNpHfM?t=2215</td>\n    </tr>\n    <tr>\n      <th>302</th>\n      <td>za tu tvrdnju koju vi postavite pred njih. Nek...</td>\n      <td>https://youtu.be/fMMhJYNpHfM?t=2008</td>\n    </tr>\n    <tr>\n      <th>1560</th>\n      <td>Ne mora nikakav uvjet biti zadovoljen.</td>\n      <td>https://youtu.be/3YoHR8CGU-4?t=2469</td>\n    </tr>\n    <tr>\n      <th>876</th>\n      <td>to zapravo znači da ja moram sve variable, pri...</td>\n      <td>https://youtu.be/QWzjU9Tdt4Y?t=2170</td>\n    </tr>\n    <tr>\n      <th>300</th>\n      <td>tvrdnje, ona će glasati ili za jednu ili za dr...</td>\n      <td>https://youtu.be/fMMhJYNpHfM?t=1986</td>\n    </tr>\n    <tr>\n      <th>3911</th>\n      <td>Znači za početak moramo nešto reći o idealima,...</td>\n      <td>https://youtu.be/SpSD84Kgqio?t=1571</td>\n    </tr>\n    <tr>\n      <th>2748</th>\n      <td>kad smo gledali šta to zapravo znači za</td>\n      <td>https://youtu.be/MASKzjeZyLM?t=186</td>\n    </tr>\n  </tbody>\n</table>\n</div>"
     },
     "execution_count": 33,
     "metadata": {},
     "output_type": "execute_result"
    }
   ],
   "source": [
    "D, I = vector_search([\"Gdje smo zapeli prvi put?\"], model, index, num_results=10)\n",
    "df[[\"Speech\", \"start_link\"]].iloc[I[0]]"
   ],
   "metadata": {
    "collapsed": false
   }
  },
  {
   "cell_type": "code",
   "execution_count": 34,
   "outputs": [
    {
     "data": {
      "text/plain": "                                                 Speech  \\\n1156             onda zovemo elementarno preslikavanje.   \n1181  šta je elementarno preslikavanje, šta je jakih...   \n1214  Dakle, da ovo elementarno preslikavanje mora n...   \n1160  Izomorfizmi uvijek jesu elementarna preslikava...   \n1176       elementarno preslikavanje jakih homomorfiza.   \n1158  pa niti jaki homomorfizam, ne mora biti elemen...   \n1170  Elementarno preslikavanje općenito ne mora bit...   \n1431  Dakle, to je kao elementarno preslikavanje, sa...   \n1213  i da imate elementarno preslikavanje, ali da n...   \n1150             Neka preslikavanja nisu u onom smislu,   \n\n                               start_link  \n1156   https://youtu.be/3YoHR8CGU-4?t=632  \n1181   https://youtu.be/3YoHR8CGU-4?t=718  \n1214   https://youtu.be/3YoHR8CGU-4?t=863  \n1160   https://youtu.be/3YoHR8CGU-4?t=646  \n1176   https://youtu.be/3YoHR8CGU-4?t=701  \n1158   https://youtu.be/3YoHR8CGU-4?t=638  \n1170   https://youtu.be/3YoHR8CGU-4?t=678  \n1431  https://youtu.be/3YoHR8CGU-4?t=1820  \n1213   https://youtu.be/3YoHR8CGU-4?t=858  \n1150   https://youtu.be/3YoHR8CGU-4?t=600  ",
      "text/html": "<div>\n<style scoped>\n    .dataframe tbody tr th:only-of-type {\n        vertical-align: middle;\n    }\n\n    .dataframe tbody tr th {\n        vertical-align: top;\n    }\n\n    .dataframe thead th {\n        text-align: right;\n    }\n</style>\n<table border=\"1\" class=\"dataframe\">\n  <thead>\n    <tr style=\"text-align: right;\">\n      <th></th>\n      <th>Speech</th>\n      <th>start_link</th>\n    </tr>\n  </thead>\n  <tbody>\n    <tr>\n      <th>1156</th>\n      <td>onda zovemo elementarno preslikavanje.</td>\n      <td>https://youtu.be/3YoHR8CGU-4?t=632</td>\n    </tr>\n    <tr>\n      <th>1181</th>\n      <td>šta je elementarno preslikavanje, šta je jakih...</td>\n      <td>https://youtu.be/3YoHR8CGU-4?t=718</td>\n    </tr>\n    <tr>\n      <th>1214</th>\n      <td>Dakle, da ovo elementarno preslikavanje mora n...</td>\n      <td>https://youtu.be/3YoHR8CGU-4?t=863</td>\n    </tr>\n    <tr>\n      <th>1160</th>\n      <td>Izomorfizmi uvijek jesu elementarna preslikava...</td>\n      <td>https://youtu.be/3YoHR8CGU-4?t=646</td>\n    </tr>\n    <tr>\n      <th>1176</th>\n      <td>elementarno preslikavanje jakih homomorfiza.</td>\n      <td>https://youtu.be/3YoHR8CGU-4?t=701</td>\n    </tr>\n    <tr>\n      <th>1158</th>\n      <td>pa niti jaki homomorfizam, ne mora biti elemen...</td>\n      <td>https://youtu.be/3YoHR8CGU-4?t=638</td>\n    </tr>\n    <tr>\n      <th>1170</th>\n      <td>Elementarno preslikavanje općenito ne mora bit...</td>\n      <td>https://youtu.be/3YoHR8CGU-4?t=678</td>\n    </tr>\n    <tr>\n      <th>1431</th>\n      <td>Dakle, to je kao elementarno preslikavanje, sa...</td>\n      <td>https://youtu.be/3YoHR8CGU-4?t=1820</td>\n    </tr>\n    <tr>\n      <th>1213</th>\n      <td>i da imate elementarno preslikavanje, ali da n...</td>\n      <td>https://youtu.be/3YoHR8CGU-4?t=858</td>\n    </tr>\n    <tr>\n      <th>1150</th>\n      <td>Neka preslikavanja nisu u onom smislu,</td>\n      <td>https://youtu.be/3YoHR8CGU-4?t=600</td>\n    </tr>\n  </tbody>\n</table>\n</div>"
     },
     "execution_count": 34,
     "metadata": {},
     "output_type": "execute_result"
    }
   ],
   "source": [
    "D, I = vector_search([\"Što je elementarno preslikavanje?\"], model, index, num_results=10)\n",
    "df[[\"Speech\", \"start_link\"]].iloc[I[0]]"
   ],
   "metadata": {
    "collapsed": false
   }
  },
  {
   "cell_type": "code",
   "execution_count": 35,
   "outputs": [
    {
     "data": {
      "text/plain": "                                                 Speech  \\\n1160  Izomorfizmi uvijek jesu elementarna preslikava...   \n1156             onda zovemo elementarno preslikavanje.   \n1214  Dakle, da ovo elementarno preslikavanje mora n...   \n1176       elementarno preslikavanje jakih homomorfiza.   \n1213  i da imate elementarno preslikavanje, ali da n...   \n1150             Neka preslikavanja nisu u onom smislu,   \n1181  šta je elementarno preslikavanje, šta je jakih...   \n1170  Elementarno preslikavanje općenito ne mora bit...   \n1158  pa niti jaki homomorfizam, ne mora biti elemen...   \n1199  na prvi pogled, isti uvjet kao kod elementarno...   \n\n                              start_link  \n1160  https://youtu.be/3YoHR8CGU-4?t=646  \n1156  https://youtu.be/3YoHR8CGU-4?t=632  \n1214  https://youtu.be/3YoHR8CGU-4?t=863  \n1176  https://youtu.be/3YoHR8CGU-4?t=701  \n1213  https://youtu.be/3YoHR8CGU-4?t=858  \n1150  https://youtu.be/3YoHR8CGU-4?t=600  \n1181  https://youtu.be/3YoHR8CGU-4?t=718  \n1170  https://youtu.be/3YoHR8CGU-4?t=678  \n1158  https://youtu.be/3YoHR8CGU-4?t=638  \n1199  https://youtu.be/3YoHR8CGU-4?t=808  ",
      "text/html": "<div>\n<style scoped>\n    .dataframe tbody tr th:only-of-type {\n        vertical-align: middle;\n    }\n\n    .dataframe tbody tr th {\n        vertical-align: top;\n    }\n\n    .dataframe thead th {\n        text-align: right;\n    }\n</style>\n<table border=\"1\" class=\"dataframe\">\n  <thead>\n    <tr style=\"text-align: right;\">\n      <th></th>\n      <th>Speech</th>\n      <th>start_link</th>\n    </tr>\n  </thead>\n  <tbody>\n    <tr>\n      <th>1160</th>\n      <td>Izomorfizmi uvijek jesu elementarna preslikava...</td>\n      <td>https://youtu.be/3YoHR8CGU-4?t=646</td>\n    </tr>\n    <tr>\n      <th>1156</th>\n      <td>onda zovemo elementarno preslikavanje.</td>\n      <td>https://youtu.be/3YoHR8CGU-4?t=632</td>\n    </tr>\n    <tr>\n      <th>1214</th>\n      <td>Dakle, da ovo elementarno preslikavanje mora n...</td>\n      <td>https://youtu.be/3YoHR8CGU-4?t=863</td>\n    </tr>\n    <tr>\n      <th>1176</th>\n      <td>elementarno preslikavanje jakih homomorfiza.</td>\n      <td>https://youtu.be/3YoHR8CGU-4?t=701</td>\n    </tr>\n    <tr>\n      <th>1213</th>\n      <td>i da imate elementarno preslikavanje, ali da n...</td>\n      <td>https://youtu.be/3YoHR8CGU-4?t=858</td>\n    </tr>\n    <tr>\n      <th>1150</th>\n      <td>Neka preslikavanja nisu u onom smislu,</td>\n      <td>https://youtu.be/3YoHR8CGU-4?t=600</td>\n    </tr>\n    <tr>\n      <th>1181</th>\n      <td>šta je elementarno preslikavanje, šta je jakih...</td>\n      <td>https://youtu.be/3YoHR8CGU-4?t=718</td>\n    </tr>\n    <tr>\n      <th>1170</th>\n      <td>Elementarno preslikavanje općenito ne mora bit...</td>\n      <td>https://youtu.be/3YoHR8CGU-4?t=678</td>\n    </tr>\n    <tr>\n      <th>1158</th>\n      <td>pa niti jaki homomorfizam, ne mora biti elemen...</td>\n      <td>https://youtu.be/3YoHR8CGU-4?t=638</td>\n    </tr>\n    <tr>\n      <th>1199</th>\n      <td>na prvi pogled, isti uvjet kao kod elementarno...</td>\n      <td>https://youtu.be/3YoHR8CGU-4?t=808</td>\n    </tr>\n  </tbody>\n</table>\n</div>"
     },
     "execution_count": 35,
     "metadata": {},
     "output_type": "execute_result"
    }
   ],
   "source": [
    "D, I = vector_search([\"Što su elementarna preslikavanja?\"], model, index, num_results=10)\n",
    "df[[\"Speech\", \"start_link\"]].iloc[I[0]]"
   ],
   "metadata": {
    "collapsed": false
   }
  },
  {
   "cell_type": "code",
   "execution_count": 36,
   "outputs": [
    {
     "data": {
      "text/plain": "                                                 Speech  \\\n1703  Dakle, ali naravno, ove dvije stvari su izomor...   \n1553                 i na njemu definirati izomorfizam.   \n2295  ako dva vektorska prostora imaju istu dimenzij...   \n1160  Izomorfizmi uvijek jesu elementarna preslikava...   \n1411                 koji je zapravo čak i izomorfizam.   \n3375                              što to zapravo znači?   \n1833             recimo Z2 i Z3 sigurno nisu izomorfne.   \n1520  ali strukture koje su elementarno ekvivalente ...   \n1830  hoću reći ne izomorflog, se može modelirati u ...   \n1129  Izomorfne strukture jesu elementarno ekvivalente.   \n\n                               start_link  \n1703   https://youtu.be/jebx2t2NX6U?t=412  \n1553  https://youtu.be/3YoHR8CGU-4?t=2444  \n2295   https://youtu.be/Q19taQtrlR0?t=952  \n1160   https://youtu.be/3YoHR8CGU-4?t=646  \n1411  https://youtu.be/3YoHR8CGU-4?t=1710  \n3375  https://youtu.be/MASKzjeZyLM?t=1954  \n1833  https://youtu.be/jebx2t2NX6U?t=1156  \n1520  https://youtu.be/3YoHR8CGU-4?t=2308  \n1830  https://youtu.be/jebx2t2NX6U?t=1143  \n1129   https://youtu.be/3YoHR8CGU-4?t=509  ",
      "text/html": "<div>\n<style scoped>\n    .dataframe tbody tr th:only-of-type {\n        vertical-align: middle;\n    }\n\n    .dataframe tbody tr th {\n        vertical-align: top;\n    }\n\n    .dataframe thead th {\n        text-align: right;\n    }\n</style>\n<table border=\"1\" class=\"dataframe\">\n  <thead>\n    <tr style=\"text-align: right;\">\n      <th></th>\n      <th>Speech</th>\n      <th>start_link</th>\n    </tr>\n  </thead>\n  <tbody>\n    <tr>\n      <th>1703</th>\n      <td>Dakle, ali naravno, ove dvije stvari su izomor...</td>\n      <td>https://youtu.be/jebx2t2NX6U?t=412</td>\n    </tr>\n    <tr>\n      <th>1553</th>\n      <td>i na njemu definirati izomorfizam.</td>\n      <td>https://youtu.be/3YoHR8CGU-4?t=2444</td>\n    </tr>\n    <tr>\n      <th>2295</th>\n      <td>ako dva vektorska prostora imaju istu dimenzij...</td>\n      <td>https://youtu.be/Q19taQtrlR0?t=952</td>\n    </tr>\n    <tr>\n      <th>1160</th>\n      <td>Izomorfizmi uvijek jesu elementarna preslikava...</td>\n      <td>https://youtu.be/3YoHR8CGU-4?t=646</td>\n    </tr>\n    <tr>\n      <th>1411</th>\n      <td>koji je zapravo čak i izomorfizam.</td>\n      <td>https://youtu.be/3YoHR8CGU-4?t=1710</td>\n    </tr>\n    <tr>\n      <th>3375</th>\n      <td>što to zapravo znači?</td>\n      <td>https://youtu.be/MASKzjeZyLM?t=1954</td>\n    </tr>\n    <tr>\n      <th>1833</th>\n      <td>recimo Z2 i Z3 sigurno nisu izomorfne.</td>\n      <td>https://youtu.be/jebx2t2NX6U?t=1156</td>\n    </tr>\n    <tr>\n      <th>1520</th>\n      <td>ali strukture koje su elementarno ekvivalente ...</td>\n      <td>https://youtu.be/3YoHR8CGU-4?t=2308</td>\n    </tr>\n    <tr>\n      <th>1830</th>\n      <td>hoću reći ne izomorflog, se može modelirati u ...</td>\n      <td>https://youtu.be/jebx2t2NX6U?t=1143</td>\n    </tr>\n    <tr>\n      <th>1129</th>\n      <td>Izomorfne strukture jesu elementarno ekvivalente.</td>\n      <td>https://youtu.be/3YoHR8CGU-4?t=509</td>\n    </tr>\n  </tbody>\n</table>\n</div>"
     },
     "execution_count": 36,
     "metadata": {},
     "output_type": "execute_result"
    }
   ],
   "source": [
    "D, I = vector_search([\"Što su izomorfizmi?\"], model, index, num_results=10)\n",
    "df[[\"Speech\", \"start_link\"]].iloc[I[0]]"
   ],
   "metadata": {
    "collapsed": false
   }
  },
  {
   "cell_type": "code",
   "execution_count": 37,
   "outputs": [
    {
     "data": {
      "text/plain": "                                                 Speech  \\\n1129  Izomorfne strukture jesu elementarno ekvivalente.   \n1519  Znači, strukture koje su elementarni jesu elem...   \n1520  ali strukture koje su elementarno ekvivalente ...   \n912   nad istom signaturom, to je važno, su elementa...   \n1135              pa tako je elementarno ekvivalenciju.   \n923   bez obzira na valuaciju, onda kažemo da su te ...   \n2311  Ali, možemo razne druge stvari tu reći i pokaz...   \n3407              ekvivalentno s time da zapravo kažete   \n2680  po definiciji ekvivalentne, pa se tu nema šta ...   \n3128                         onda je to ekvivalentno sa   \n\n                               start_link  \n1129   https://youtu.be/3YoHR8CGU-4?t=509  \n1519  https://youtu.be/3YoHR8CGU-4?t=2305  \n1520  https://youtu.be/3YoHR8CGU-4?t=2308  \n912   https://youtu.be/QWzjU9Tdt4Y?t=2331  \n1135   https://youtu.be/3YoHR8CGU-4?t=533  \n923   https://youtu.be/QWzjU9Tdt4Y?t=2370  \n2311  https://youtu.be/Q19taQtrlR0?t=1067  \n3407  https://youtu.be/MASKzjeZyLM?t=2030  \n2680  https://youtu.be/Q19taQtrlR0?t=2531  \n3128  https://youtu.be/MASKzjeZyLM?t=1256  ",
      "text/html": "<div>\n<style scoped>\n    .dataframe tbody tr th:only-of-type {\n        vertical-align: middle;\n    }\n\n    .dataframe tbody tr th {\n        vertical-align: top;\n    }\n\n    .dataframe thead th {\n        text-align: right;\n    }\n</style>\n<table border=\"1\" class=\"dataframe\">\n  <thead>\n    <tr style=\"text-align: right;\">\n      <th></th>\n      <th>Speech</th>\n      <th>start_link</th>\n    </tr>\n  </thead>\n  <tbody>\n    <tr>\n      <th>1129</th>\n      <td>Izomorfne strukture jesu elementarno ekvivalente.</td>\n      <td>https://youtu.be/3YoHR8CGU-4?t=509</td>\n    </tr>\n    <tr>\n      <th>1519</th>\n      <td>Znači, strukture koje su elementarni jesu elem...</td>\n      <td>https://youtu.be/3YoHR8CGU-4?t=2305</td>\n    </tr>\n    <tr>\n      <th>1520</th>\n      <td>ali strukture koje su elementarno ekvivalente ...</td>\n      <td>https://youtu.be/3YoHR8CGU-4?t=2308</td>\n    </tr>\n    <tr>\n      <th>912</th>\n      <td>nad istom signaturom, to je važno, su elementa...</td>\n      <td>https://youtu.be/QWzjU9Tdt4Y?t=2331</td>\n    </tr>\n    <tr>\n      <th>1135</th>\n      <td>pa tako je elementarno ekvivalenciju.</td>\n      <td>https://youtu.be/3YoHR8CGU-4?t=533</td>\n    </tr>\n    <tr>\n      <th>923</th>\n      <td>bez obzira na valuaciju, onda kažemo da su te ...</td>\n      <td>https://youtu.be/QWzjU9Tdt4Y?t=2370</td>\n    </tr>\n    <tr>\n      <th>2311</th>\n      <td>Ali, možemo razne druge stvari tu reći i pokaz...</td>\n      <td>https://youtu.be/Q19taQtrlR0?t=1067</td>\n    </tr>\n    <tr>\n      <th>3407</th>\n      <td>ekvivalentno s time da zapravo kažete</td>\n      <td>https://youtu.be/MASKzjeZyLM?t=2030</td>\n    </tr>\n    <tr>\n      <th>2680</th>\n      <td>po definiciji ekvivalentne, pa se tu nema šta ...</td>\n      <td>https://youtu.be/Q19taQtrlR0?t=2531</td>\n    </tr>\n    <tr>\n      <th>3128</th>\n      <td>onda je to ekvivalentno sa</td>\n      <td>https://youtu.be/MASKzjeZyLM?t=1256</td>\n    </tr>\n  </tbody>\n</table>\n</div>"
     },
     "execution_count": 37,
     "metadata": {},
     "output_type": "execute_result"
    }
   ],
   "source": [
    "D, I = vector_search([\"Elementarno ekvivalentne strukture\"], model, index, num_results=10)\n",
    "df[[\"Speech\", \"start_link\"]].iloc[I[0]]"
   ],
   "metadata": {
    "collapsed": false
   }
  }
 ],
 "metadata": {
  "kernelspec": {
   "display_name": "Python 3",
   "language": "python",
   "name": "python3"
  },
  "language_info": {
   "codemirror_mode": {
    "name": "ipython",
    "version": 2
   },
   "file_extension": ".py",
   "mimetype": "text/x-python",
   "name": "python",
   "nbconvert_exporter": "python",
   "pygments_lexer": "ipython2",
   "version": "2.7.6"
  }
 },
 "nbformat": 4,
 "nbformat_minor": 0
}
