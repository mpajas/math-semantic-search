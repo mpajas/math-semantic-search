{
 "cells": [
  {
   "cell_type": "code",
   "execution_count": 19,
   "metadata": {
    "collapsed": true
   },
   "outputs": [],
   "source": [
    "import pytube.exceptions\n",
    "from pytube import Playlist\n",
    "import pytube\n",
    "from tqdm import tqdm\n",
    "import unicodedata\n",
    "import re"
   ]
  },
  {
   "cell_type": "code",
   "execution_count": 7,
   "outputs": [],
   "source": [
    "playlist_link = \"https://www.youtube.com/watch?v=QWzjU9Tdt4Y&list=PL1kAkdlmcOWon_Y0eH8J7-VT1tvFDxZda\""
   ],
   "metadata": {
    "collapsed": false
   }
  },
  {
   "cell_type": "code",
   "execution_count": 8,
   "outputs": [],
   "source": [
    "playlist = Playlist(playlist_link)"
   ],
   "metadata": {
    "collapsed": false
   }
  },
  {
   "cell_type": "code",
   "execution_count": 9,
   "outputs": [],
   "source": [
    "url_list = playlist.video_urls"
   ],
   "metadata": {
    "collapsed": false
   }
  },
  {
   "cell_type": "code",
   "execution_count": 10,
   "outputs": [
    {
     "data": {
      "text/plain": "'https://www.youtube.com/watch?v=QWzjU9Tdt4Y?t=903'"
     },
     "execution_count": 10,
     "metadata": {},
     "output_type": "execute_result"
    }
   ],
   "source": [
    "url_list[0]+\"?t=903\""
   ],
   "metadata": {
    "collapsed": false
   }
  },
  {
   "cell_type": "code",
   "execution_count": 24,
   "outputs": [
    {
     "name": "stderr",
     "output_type": "stream",
     "text": [
      "100%|██████████| 35/35 [00:22<00:00,  1.57it/s]\n"
     ]
    }
   ],
   "source": [
    "playlist_data = {}\n",
    "for i, video in enumerate(tqdm(playlist.videos)):\n",
    "    try:\n",
    "        title = video.initial_data[\"contents\"][\"twoColumnWatchNextResults\"][\"results\"][\"results\"][\"contents\"][0][\"videoPrimaryInfoRenderer\"][\"title\"][\"runs\"][0][\"text\"]\n",
    "        title = unicodedata.normalize(\"NFD\", title)\n",
    "        url = re.sub(\"youtube\\.com\\/watch\\?v\\=\", \"youtu.be/\", video.watch_url)\n",
    "        playlist_data[title] = url\n",
    "\n",
    "    except pytube.exceptions.PytubeError as e:\n",
    "        print(\"Error\")\n",
    "        pass"
   ],
   "metadata": {
    "collapsed": false
   }
  },
  {
   "cell_type": "code",
   "execution_count": 25,
   "outputs": [
    {
     "data": {
      "text/plain": "35"
     },
     "execution_count": 25,
     "metadata": {},
     "output_type": "execute_result"
    }
   ],
   "source": [
    "len(playlist_data.keys())"
   ],
   "metadata": {
    "collapsed": false
   }
  },
  {
   "cell_type": "code",
   "execution_count": 26,
   "outputs": [],
   "source": [
    "import json\n",
    "with open(\"youtube_links.json\", \"w\") as f:\n",
    "    json.dump(playlist_data, f)"
   ],
   "metadata": {
    "collapsed": false
   }
  },
  {
   "cell_type": "code",
   "execution_count": 15,
   "outputs": [],
   "source": [
    "# with open(\"youtube_links.json\", \"r\") as f:\n",
    "#     loaded_playlist_data = json.load(f)"
   ],
   "metadata": {
    "collapsed": false
   }
  },
  {
   "cell_type": "code",
   "execution_count": 16,
   "outputs": [],
   "source": [
    "# loaded_playlist_data[list(loaded_playlist_data.keys())[0]]"
   ],
   "metadata": {
    "collapsed": false
   }
  }
 ],
 "metadata": {
  "kernelspec": {
   "display_name": "Python 3",
   "language": "python",
   "name": "python3"
  },
  "language_info": {
   "codemirror_mode": {
    "name": "ipython",
    "version": 2
   },
   "file_extension": ".py",
   "mimetype": "text/x-python",
   "name": "python",
   "nbconvert_exporter": "python",
   "pygments_lexer": "ipython2",
   "version": "2.7.6"
  }
 },
 "nbformat": 4,
 "nbformat_minor": 0
}
